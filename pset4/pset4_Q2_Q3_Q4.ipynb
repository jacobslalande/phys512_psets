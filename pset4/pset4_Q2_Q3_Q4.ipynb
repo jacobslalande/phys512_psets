{
 "cells": [
  {
   "cell_type": "code",
   "execution_count": 1,
   "metadata": {},
   "outputs": [],
   "source": [
    "import numpy as np\n",
    "import camb\n",
    "from matplotlib import pyplot as plt\n",
    "from scipy.misc import derivative\n",
    "import time"
   ]
  },
  {
   "cell_type": "markdown",
   "metadata": {},
   "source": [
    "### Problem 2"
   ]
  },
  {
   "cell_type": "code",
   "execution_count": 2,
   "metadata": {},
   "outputs": [],
   "source": [
    "def get_spectrum(pars,lmax=3000):\n",
    "    H0=pars[0]\n",
    "    ombh2=pars[1]\n",
    "    omch2=pars[2]\n",
    "    tau=pars[3]\n",
    "    As=pars[4]\n",
    "    ns=pars[5]\n",
    "    \n",
    "    pars=camb.CAMBparams()\n",
    "    pars.set_cosmology(H0=H0,ombh2=ombh2,omch2=omch2,mnu=0.06,omk=0,tau=tau)\n",
    "    pars.InitPower.set_params(As=As,ns=ns,r=0)\n",
    "    pars.set_for_lmax(lmax,lens_potential_accuracy=0)\n",
    "    results=camb.get_results(pars)\n",
    "    \n",
    "    powers=results.get_cmb_power_spectra(pars,CMB_unit='muK')\n",
    "    cmb=powers['total']\n",
    "    tt=cmb[:,0]    #you could return the full power spectrum here if you wanted to do say EE\n",
    "    return tt[2:]"
   ]
  },
  {
   "cell_type": "code",
   "execution_count": 4,
   "metadata": {},
   "outputs": [],
   "source": [
    "def ndiff(fun,m):\n",
    "    model = fun(m)\n",
    "    n = len(model)\n",
    "    k = len(m)\n",
    "    derivs = np.empty([n,k])\n",
    "    \n",
    "    for i in range(k):    \n",
    "\n",
    "        dx = np.zeros(k)\n",
    "        dx[i] = m[i]*0.01\n",
    "\n",
    "        derivs[:,i] = (fun(m+dx) - fun(m-dx))/(2*dx[i])\n",
    "    return model, derivs"
   ]
  },
  {
   "cell_type": "code",
   "execution_count": 5,
   "metadata": {},
   "outputs": [],
   "source": [
    "def update_lamda(lamda,success):\n",
    "    if success:\n",
    "        lamda=lamda/1.5\n",
    "        if lamda<0.5:\n",
    "            lamda=0\n",
    "    else:\n",
    "        if lamda==0:\n",
    "            lamda=1\n",
    "        else:\n",
    "            lamda=lamda*1.5**2\n",
    "    return lamda"
   ]
  },
  {
   "cell_type": "code",
   "execution_count": 6,
   "metadata": {},
   "outputs": [],
   "source": [
    "def get_matrices(m,fun,y,Ninv):\n",
    "    model,derivs=ndiff(fun,m)\n",
    "    model = model[:len(y)]\n",
    "    derivs = derivs[:len(y),:]\n",
    "    r=y-model\n",
    "    lhs=derivs.T@Ninv@derivs\n",
    "    rhs=derivs.T@(Ninv@r)\n",
    "    chisq=r.T@Ninv@r\n",
    "    return chisq,lhs,rhs"
   ]
  },
  {
   "cell_type": "code",
   "execution_count": 7,
   "metadata": {},
   "outputs": [],
   "source": [
    "def linv(mat,lamda):\n",
    "    mat=mat+lamda*np.diag(np.diag(mat))\n",
    "    return np.linalg.inv(mat)"
   ]
  },
  {
   "cell_type": "code",
   "execution_count": 8,
   "metadata": {},
   "outputs": [],
   "source": [
    "def fit_lm_clean(m,fun,y,Ninv,chitol=0.01):\n",
    "    lamda=1\n",
    "    \n",
    "    chisq,lhs,rhs=get_matrices(m,fun,y,Ninv)\n",
    "    #print(chisq)\n",
    "    tau = m[3]\n",
    "    i=0\n",
    "    while True:\n",
    "        i+=1\n",
    "        #print(m[3])\n",
    "        \n",
    "        lhs_inv=linv(lhs,lamda)\n",
    "        dm=lhs_inv@rhs\n",
    "        m = m+dm\n",
    "        \n",
    "        #print('m1',m)\n",
    "        #print('tau : ',m[3])\n",
    "        if m[3] < 0 or m[3] > 1:\n",
    "            m[3]=tau\n",
    "        #print('m2',m)\n",
    "        \n",
    "        chisq_new,lhs_new,rhs_new=get_matrices(m,fun,y,Ninv)\n",
    "\n",
    "                \n",
    "        if chisq_new<chisq:  \n",
    "\n",
    "            if lamda==0:\n",
    "                if (np.abs(chisq-chisq_new)<chitol):\n",
    "                    return m, lhs\n",
    "            chisq=chisq_new\n",
    "            lhs=lhs_new\n",
    "            rhs=rhs_new\n",
    "            \n",
    "            \n",
    "            lamda=update_lamda(lamda,True)\n",
    "            \n",
    "        else:\n",
    "            lamda=update_lamda(lamda,False)\n",
    "        #if i >10 :\n",
    "            #return m, lhs\n",
    "        print('on iteration ',i,' chisq is ',chisq,' with step ',dm,' and lamda ',lamda)\n",
    "    return m, lhs"
   ]
  },
  {
   "cell_type": "code",
   "execution_count": 9,
   "metadata": {},
   "outputs": [],
   "source": [
    "planck=np.loadtxt('COM_PowerSpect_CMB-TT-full_R3.01.txt',skiprows=1)\n",
    "spec=planck[:,1]\n",
    "errs=0.5*(planck[:,2]+planck[:,3])\n",
    "\n",
    "pars=np.asarray([60,0.02,0.1,0.05,2.00e-9,1.0])\n",
    "#pars=np.asarray([69, 0.022, 0.12, 0.06, 2.1e-9, 0.95])\n",
    "\n",
    "N = np.eye(len(errs))*(errs)**2\n",
    "Ninv = np.linalg.inv(N)"
   ]
  },
  {
   "cell_type": "code",
   "execution_count": 10,
   "metadata": {
    "scrolled": false
   },
   "outputs": [
    {
     "name": "stdout",
     "output_type": "stream",
     "text": [
      "on iteration  1  chisq is  5105.98042369442  with step  [ 2.57678849e+00 -1.37203492e-03  5.17330833e-03  5.61394899e-03\n",
      " -2.10048960e-11 -1.48842398e-02]  and lamda  0.6666666666666666\n",
      "on iteration  2  chisq is  3487.888011861477  with step  [ 2.14464477e+00  1.91915905e-04  3.90171847e-03 -2.71272711e-03\n",
      "  1.15019441e-11  5.27636820e-03]  and lamda  0\n",
      "on iteration  3  chisq is  3252.837707877956  with step  [ 1.10018641e+00  3.07247163e-03  1.23633296e-02  1.12923567e-01\n",
      "  5.50556984e-10 -3.39634940e-02]  and lamda  0\n",
      "on iteration  4  chisq is  2625.7799697806677  with step  [ 2.14517273e+00  4.56272046e-04 -3.11184783e-03 -8.35089651e-02\n",
      " -3.52093950e-10  1.42936953e-02]  and lamda  0\n",
      "on iteration  5  chisq is  2576.15490129863  with step  [ 2.90528983e-01  1.69744780e-05 -6.95823877e-04  3.37328754e-03\n",
      "  3.11586766e-11  2.42353367e-03]  and lamda  0\n",
      "time: 413.8503420352936\n"
     ]
    }
   ],
   "source": [
    "start = time.time()\n",
    "m, pcov = fit_lm_clean(pars,get_spectrum,spec,Ninv)\n",
    "stop = time.time()\n",
    "print('time:',stop-start)"
   ]
  },
  {
   "cell_type": "code",
   "execution_count": 11,
   "metadata": {},
   "outputs": [],
   "source": [
    "cov_inv = linv(pcov,0)\n",
    "error_param = np.sqrt(np.diag(cov_inv))"
   ]
  },
  {
   "cell_type": "code",
   "execution_count": 12,
   "metadata": {},
   "outputs": [],
   "source": [
    "with open('planc_fit_param.txt', 'w') as f:\n",
    "    for i in range(len(m)):\n",
    "        string = 'param {} : {} +/- {} \\n'.format(i,m[i],error_param[i])\n",
    "        f.write(string)\n",
    "f.close()"
   ]
  },
  {
   "cell_type": "markdown",
   "metadata": {},
   "source": [
    "### Problem 3"
   ]
  },
  {
   "cell_type": "code",
   "execution_count": 13,
   "metadata": {},
   "outputs": [],
   "source": [
    "def gauss_chisq(pars,y,noise):\n",
    "    pred=get_spectrum(pars) #predicted value\n",
    "    pred = pred[:len(y)]\n",
    "\n",
    "    return np.sum (((y-pred)/noise)**2)"
   ]
  },
  {
   "cell_type": "code",
   "execution_count": 15,
   "metadata": {},
   "outputs": [],
   "source": [
    "def mcmc(pars,cov_param,y,fun,noise,nstep=500):\n",
    "    \n",
    "    L =  np.linalg.cholesky(cov_inv)\n",
    "    \n",
    "    chi_cur=fun(pars,y,noise) # compute chi-square\n",
    "    #print(chi_cur)\n",
    "    \n",
    "    npar=len(pars) #number of parameters\n",
    "    chain=np.zeros([nstep,npar])\n",
    "    chivec=np.zeros(nstep) # chi-square as fcn of time/steps\n",
    "    for i in range(nstep):\n",
    "        #print('i :',i)\n",
    "        step = 0.3*np.diag(L)*np.random.rand(npar)\n",
    "        #print('step : ',step)\n",
    "        trial_pars=pars+step #param at new step\n",
    "        \n",
    "        #print('trial pars : ',trial_pars)\n",
    "        trial_chisq=fun(trial_pars,y,noise) #compute chi-square for trial, i.e. at new step\n",
    "        #print('trial chisq : ',trial_chisq)\n",
    "        \n",
    "        delta_chisq=trial_chisq-chi_cur # difference trial chi-square and previous chi-square\n",
    "        #print('chi cur : ',chi_cur,'delta :',delta_chisq,'\\n')\n",
    "        \n",
    "        if i%10 == 0:\n",
    "            print('i :',i)\n",
    "            print('chi cur :',chi_cur)\n",
    "            print('trial pars :',trial_pars)\n",
    "            print('trial chisq',trial_chisq)\n",
    "            print('delta chisq :',delta_chisq)\n",
    "        \n",
    "        accept_prob=np.exp(-0.5*delta_chisq)\n",
    "        accept=np.random.rand(1)<accept_prob\n",
    "        if accept:\n",
    "            pars=trial_pars\n",
    "            chi_cur=trial_chisq\n",
    "        chain[i,:]=pars\n",
    "        chivec[i]=chi_cur\n",
    "    return chain,chivec"
   ]
  },
  {
   "cell_type": "code",
   "execution_count": 16,
   "metadata": {
    "scrolled": true
   },
   "outputs": [
    {
     "name": "stdout",
     "output_type": "stream",
     "text": [
      "i : 0\n",
      "chi cur : 15267.937150261656\n",
      "trial pars : [6.01020818e+01 2.00059650e-02 1.00067192e-01 5.83286152e-02\n",
      " 2.00027854e-09 1.00050254e+00]\n",
      "trial chisq 13311.291680413824\n",
      "delta chisq : -1956.645469847832\n"
     ]
    },
    {
     "name": "stderr",
     "output_type": "stream",
     "text": [
      "<ipython-input-15-4bb45d68cdbf>:31: RuntimeWarning: overflow encountered in exp\n",
      "  accept_prob=np.exp(-0.5*delta_chisq)\n"
     ]
    },
    {
     "name": "stdout",
     "output_type": "stream",
     "text": [
      "i : 10\n",
      "chi cur : 8092.946643948517\n",
      "trial pars : [6.21288718e+01 2.03068593e-02 1.00794569e-01 9.87922220e-02\n",
      " 2.00607415e-09 1.00316259e+00]\n",
      "trial chisq 7979.421553745534\n",
      "delta chisq : -113.52509020298294\n",
      "i : 20\n",
      "chi cur : 7877.862117197645\n",
      "trial pars : [6.27699221e+01 2.03762918e-02 1.00958814e-01 1.09824069e-01\n",
      " 2.00834465e-09 1.00404888e+00]\n",
      "trial chisq 8190.264342852677\n",
      "delta chisq : 312.40222565503245\n",
      "i : 30\n",
      "chi cur : 7632.632544638791\n",
      "trial pars : [6.30539773e+01 2.04234558e-02 1.01138643e-01 1.09115947e-01\n",
      " 2.01015342e-09 1.00425841e+00]\n",
      "trial chisq 7933.315180733332\n",
      "delta chisq : 300.6826360945415\n",
      "i : 40\n",
      "chi cur : 7526.869714648138\n",
      "trial pars : [6.33071935e+01 2.04567165e-02 1.01251985e-01 1.11705593e-01\n",
      " 2.01320459e-09 1.00419224e+00]\n",
      "trial chisq 7976.149687846306\n",
      "delta chisq : 449.2799731981677\n",
      "i : 50\n",
      "chi cur : 7526.869714648138\n",
      "trial pars : [6.34771123e+01 2.04327100e-02 1.01190402e-01 1.12314145e-01\n",
      " 2.01315350e-09 1.00409653e+00]\n",
      "trial chisq 7959.697017261634\n",
      "delta chisq : 432.8273026134957\n",
      "i : 60\n",
      "chi cur : 7290.727413785687\n",
      "trial pars : [6.37727385e+01 2.04814277e-02 1.01377426e-01 1.14009375e-01\n",
      " 2.01460544e-09 1.00482249e+00]\n",
      "trial chisq 7973.100892189556\n",
      "delta chisq : 682.3734784038697\n",
      "i : 70\n",
      "chi cur : 7290.727413785687\n",
      "trial pars : [6.36238210e+01 2.04970564e-02 1.01349248e-01 1.11937416e-01\n",
      " 2.01476926e-09 1.00451440e+00]\n",
      "trial chisq 7822.247009086118\n",
      "delta chisq : 531.5195953004313\n",
      "i : 80\n",
      "chi cur : 7290.727413785687\n",
      "trial pars : [6.37272290e+01 2.04748531e-02 1.01409549e-01 1.06365857e-01\n",
      " 2.01466322e-09 1.00472144e+00]\n",
      "trial chisq 7250.113809878067\n",
      "delta chisq : -40.61360390762002\n",
      "i : 90\n",
      "chi cur : 7242.0459251004095\n",
      "trial pars : [6.42616540e+01 2.05014286e-02 1.01578291e-01 1.13583402e-01\n",
      " 2.01636399e-09 1.00534454e+00]\n",
      "trial chisq 7690.055599342619\n",
      "delta chisq : 448.00967424220926\n",
      "i : 100\n",
      "chi cur : 7237.134089599743\n",
      "trial pars : [6.43902461e+01 2.05546644e-02 1.01574712e-01 1.17250792e-01\n",
      " 2.01712459e-09 1.00526533e+00]\n",
      "trial chisq 8090.608878223815\n",
      "delta chisq : 853.4747886240721\n",
      "i : 110\n",
      "chi cur : 7160.375503835372\n",
      "trial pars : [6.48609384e+01 2.05263520e-02 1.01617097e-01 1.14449628e-01\n",
      " 2.01756944e-09 1.00550871e+00]\n",
      "trial chisq 7588.02485054247\n",
      "delta chisq : 427.6493467070977\n",
      "i : 120\n",
      "chi cur : 7092.084135358367\n",
      "trial pars : [6.49959998e+01 2.05643858e-02 1.01806818e-01 1.15331405e-01\n",
      " 2.01809996e-09 1.00600724e+00]\n",
      "trial chisq 7649.197229085296\n",
      "delta chisq : 557.113093726929\n",
      "i : 130\n",
      "chi cur : 7092.084135358367\n",
      "trial pars : [6.50446192e+01 2.05766398e-02 1.01764481e-01 1.11504280e-01\n",
      " 2.01787564e-09 1.00589267e+00]\n",
      "trial chisq 7179.080632888307\n",
      "delta chisq : 86.99649752993992\n",
      "i : 140\n",
      "chi cur : 7038.790069489967\n",
      "trial pars : [6.53421316e+01 2.05828259e-02 1.01829205e-01 1.16438668e-01\n",
      " 2.01839791e-09 1.00655498e+00]\n",
      "trial chisq 7710.233657112258\n",
      "delta chisq : 671.4435876222906\n",
      "i : 150\n",
      "chi cur : 7038.790069489967\n",
      "trial pars : [6.51621396e+01 2.05812326e-02 1.01916446e-01 1.10532008e-01\n",
      " 2.01788844e-09 1.00656621e+00]\n",
      "trial chisq 7021.447421371202\n",
      "delta chisq : -17.342648118765283\n",
      "i : 160\n",
      "chi cur : 6976.156009204457\n",
      "trial pars : [6.54342046e+01 2.06024588e-02 1.02040953e-01 1.17781005e-01\n",
      " 2.01985969e-09 1.00706276e+00]\n",
      "trial chisq 7831.7929762904805\n",
      "delta chisq : 855.6369670860231\n",
      "i : 170\n",
      "chi cur : 6908.535230852724\n",
      "trial pars : [6.57711894e+01 2.06384168e-02 1.02097603e-01 1.13387985e-01\n",
      " 2.01959797e-09 1.00738920e+00]\n",
      "trial chisq 7187.987519269676\n",
      "delta chisq : 279.4522884169519\n",
      "i : 180\n",
      "chi cur : 6908.535230852724\n",
      "trial pars : [6.59586040e+01 2.06475247e-02 1.02167920e-01 1.17336521e-01\n",
      " 2.02007870e-09 1.00709975e+00]\n",
      "trial chisq 7709.130785556345\n",
      "delta chisq : 800.5955547036201\n",
      "i : 190\n",
      "chi cur : 6908.535230852724\n",
      "trial pars : [6.59810937e+01 2.06620893e-02 1.02088554e-01 1.14799068e-01\n",
      " 2.02025790e-09 1.00754693e+00]\n",
      "trial chisq 7324.123242841646\n",
      "delta chisq : 415.5880119889216\n",
      "i : 200\n",
      "chi cur : 6908.535230852724\n",
      "trial pars : [6.58627606e+01 2.06596535e-02 1.02152395e-01 1.17278699e-01\n",
      " 2.02021926e-09 1.00709098e+00]\n",
      "trial chisq 7705.083911511744\n",
      "delta chisq : 796.5486806590197\n",
      "i : 210\n",
      "chi cur : 6908.535230852724\n",
      "trial pars : [6.59190873e+01 2.06424194e-02 1.02192691e-01 1.12403037e-01\n",
      " 2.02044674e-09 1.00714782e+00]\n",
      "trial chisq 7017.721141442334\n",
      "delta chisq : 109.1859105896092\n",
      "i : 220\n",
      "chi cur : 6908.535230852724\n",
      "trial pars : [6.58589643e+01 2.06642128e-02 1.02165770e-01 1.17004512e-01\n",
      " 2.02066847e-09 1.00756050e+00]\n",
      "trial chisq 7639.195509579136\n",
      "delta chisq : 730.6602787264119\n",
      "i : 230\n",
      "chi cur : 6873.090805177828\n",
      "trial pars : [6.59280009e+01 2.07148603e-02 1.02226824e-01 1.15009513e-01\n",
      " 2.02118240e-09 1.00775422e+00]\n",
      "trial chisq 7336.708751969039\n",
      "delta chisq : 463.6179467912116\n",
      "i : 240\n",
      "chi cur : 6873.090805177828\n",
      "trial pars : [6.61975174e+01 2.06868000e-02 1.02199090e-01 1.19123690e-01\n",
      " 2.02065739e-09 1.00813472e+00]\n",
      "trial chisq 7916.960647995541\n",
      "delta chisq : 1043.869842817713\n",
      "i : 250\n",
      "chi cur : 6873.090805177828\n",
      "trial pars : [6.59827895e+01 2.06871757e-02 1.02249722e-01 1.17215025e-01\n",
      " 2.02070219e-09 1.00806310e+00]\n",
      "trial chisq 7650.89925354346\n",
      "delta chisq : 777.8084483656321\n",
      "i : 260\n",
      "chi cur : 6873.090805177828\n",
      "trial pars : [6.59502248e+01 2.07064958e-02 1.02195925e-01 1.18883952e-01\n",
      " 2.02076217e-09 1.00777680e+00]\n",
      "trial chisq 7904.228547399841\n",
      "delta chisq : 1031.137742222013\n",
      "i : 270\n",
      "chi cur : 6844.259132983285\n",
      "trial pars : [6.63299909e+01 2.06833199e-02 1.02238857e-01 1.14817165e-01\n",
      " 2.02072011e-09 1.00818722e+00]\n",
      "trial chisq 7268.9919641405195\n",
      "delta chisq : 424.7328311572346\n",
      "i : 280\n",
      "chi cur : 6844.259132983285\n",
      "trial pars : [6.62743223e+01 2.07239939e-02 1.02199024e-01 1.16544348e-01\n",
      " 2.02142926e-09 1.00850367e+00]\n",
      "trial chisq 7488.278388025813\n",
      "delta chisq : 644.0192550425281\n",
      "i : 290\n",
      "chi cur : 6844.259132983285\n",
      "trial pars : [6.62509025e+01 2.06865448e-02 1.02262008e-01 1.19698880e-01\n",
      " 2.02081359e-09 1.00852799e+00]\n",
      "trial chisq 7993.422036070258\n",
      "delta chisq : 1149.1629030869735\n",
      "i : 300\n",
      "chi cur : 6835.9625794221\n",
      "trial pars : [6.63434968e+01 2.07244363e-02 1.02324209e-01 1.13816585e-01\n",
      " 2.02227655e-09 1.00906004e+00]\n",
      "trial chisq 7062.452826493129\n",
      "delta chisq : 226.49024707102853\n",
      "i : 310\n",
      "chi cur : 6835.9625794221\n",
      "trial pars : [6.61745616e+01 2.07117388e-02 1.02319864e-01 1.12932621e-01\n",
      " 2.02242949e-09 1.00914455e+00]\n",
      "trial chisq 6955.649653380347\n",
      "delta chisq : 119.68707395824731\n",
      "i : 320\n",
      "chi cur : 6835.9625794221\n",
      "trial pars : [6.64191006e+01 2.07176460e-02 1.02341457e-01 1.16529333e-01\n",
      " 2.02175787e-09 1.00864695e+00]\n",
      "trial chisq 7470.932335056202\n",
      "delta chisq : 634.9697556341016\n",
      "i : 330\n",
      "chi cur : 6835.9625794221\n",
      "trial pars : [6.63989464e+01 2.07098322e-02 1.02374774e-01 1.16110723e-01\n",
      " 2.02251808e-09 1.00891183e+00]\n",
      "trial chisq 7378.745832867998\n",
      "delta chisq : 542.7832534458976\n",
      "i : 340\n",
      "chi cur : 6835.9625794221\n",
      "trial pars : [6.64940373e+01 2.07142251e-02 1.02379799e-01 1.18863565e-01\n",
      " 2.02155650e-09 1.00862820e+00]\n",
      "trial chisq 7835.26769077964\n",
      "delta chisq : 999.3051113575402\n",
      "i : 350\n",
      "chi cur : 6827.937375145299\n",
      "trial pars : [6.65977754e+01 2.07471269e-02 1.02383881e-01 1.16069440e-01\n",
      " 2.02354555e-09 1.00924796e+00]\n",
      "trial chisq 7316.88565887838\n",
      "delta chisq : 488.94828373308155\n",
      "i : 360\n",
      "chi cur : 6827.937375145299\n",
      "trial pars : [6.64258775e+01 2.07710120e-02 1.02385433e-01 1.15664259e-01\n",
      " 2.02267398e-09 1.00893245e+00]\n",
      "trial chisq 7310.769343670591\n",
      "delta chisq : 482.8319685252927\n",
      "i : 370\n",
      "chi cur : 6825.315138337783\n",
      "trial pars : [6.68422170e+01 2.07743898e-02 1.02495955e-01 1.17644870e-01\n",
      " 2.02466601e-09 1.00971862e+00]\n",
      "trial chisq 7502.02214719628\n",
      "delta chisq : 676.7070088584969\n",
      "i : 380\n",
      "chi cur : 6825.315138337783\n",
      "trial pars : [6.66604262e+01 2.07903866e-02 1.02560563e-01 1.15951615e-01\n",
      " 2.02383053e-09 1.00940304e+00]\n",
      "trial chisq 7300.096407087154\n",
      "delta chisq : 474.7812687493715\n",
      "i : 390\n",
      "chi cur : 6825.315138337783\n",
      "trial pars : [6.66889910e+01 2.07838016e-02 1.02485902e-01 1.12784003e-01\n",
      " 2.02454022e-09 1.00938598e+00]\n",
      "trial chisq 6819.523245433749\n",
      "delta chisq : -5.791892904033375\n",
      "i : 400\n",
      "chi cur : 6819.523245433749\n",
      "trial pars : [6.67358932e+01 2.07862145e-02 1.02571874e-01 1.21269386e-01\n",
      " 2.02481785e-09 1.00945314e+00]\n",
      "trial chisq 8090.5454304574\n",
      "delta chisq : 1271.0221850236503\n",
      "i : 410\n",
      "chi cur : 6819.523245433749\n",
      "trial pars : [6.70339365e+01 2.08316414e-02 1.02532508e-01 1.16836557e-01\n",
      " 2.02468662e-09 1.00975515e+00]\n",
      "trial chisq 7378.697151503571\n",
      "delta chisq : 559.1739060698219\n"
     ]
    },
    {
     "name": "stdout",
     "output_type": "stream",
     "text": [
      "i : 420\n",
      "chi cur : 6756.940329412217\n",
      "trial pars : [6.73043161e+01 2.08323872e-02 1.02673328e-01 1.16149248e-01\n",
      " 2.02649676e-09 1.01032686e+00]\n",
      "trial chisq 7206.4801129215975\n",
      "delta chisq : 449.53978350938087\n",
      "i : 430\n",
      "chi cur : 6756.940329412217\n",
      "trial pars : [6.71548710e+01 2.08148993e-02 1.02581591e-01 1.13531742e-01\n",
      " 2.02602768e-09 1.01000643e+00]\n",
      "trial chisq 6838.403211974223\n",
      "delta chisq : 81.4628825620066\n",
      "i : 440\n",
      "chi cur : 6756.940329412217\n",
      "trial pars : [6.70747565e+01 2.08313562e-02 1.02598242e-01 1.16851430e-01\n",
      " 2.02658316e-09 1.01016162e+00]\n",
      "trial chisq 7305.218829037582\n",
      "delta chisq : 548.2784996253649\n",
      "i : 450\n",
      "chi cur : 6756.940329412217\n",
      "trial pars : [6.71312731e+01 2.08226803e-02 1.02561752e-01 1.13431388e-01\n",
      " 2.02576003e-09 1.01009983e+00]\n",
      "trial chisq 6830.402385048881\n",
      "delta chisq : 73.46205563666445\n",
      "i : 460\n",
      "chi cur : 6756.940329412217\n",
      "trial pars : [6.72825199e+01 2.08350039e-02 1.02553292e-01 1.20842841e-01\n",
      " 2.02625735e-09 1.01029376e+00]\n",
      "trial chisq 7949.338255852792\n",
      "delta chisq : 1192.3979264405752\n",
      "i : 470\n",
      "chi cur : 6756.940329412217\n",
      "trial pars : [6.70130646e+01 2.08113229e-02 1.02623439e-01 1.19791162e-01\n",
      " 2.02683162e-09 1.00995238e+00]\n",
      "trial chisq 7764.564360678483\n",
      "delta chisq : 1007.6240312662667\n",
      "i : 480\n",
      "chi cur : 6756.940329412217\n",
      "trial pars : [6.70144257e+01 2.08110255e-02 1.02599854e-01 1.19292232e-01\n",
      " 2.02685770e-09 1.00994497e+00]\n",
      "trial chisq 7680.6529386009515\n",
      "delta chisq : 923.7126091887349\n",
      "i : 490\n",
      "chi cur : 6756.940329412217\n",
      "trial pars : [6.72747559e+01 2.08305429e-02 1.02643911e-01 1.16695476e-01\n",
      " 2.02603043e-09 1.00990883e+00]\n",
      "trial chisq 7315.743203459737\n",
      "delta chisq : 558.8028740475202\n",
      "i : 500\n",
      "chi cur : 6756.940329412217\n",
      "trial pars : [6.73412366e+01 2.08046692e-02 1.02608832e-01 1.15024856e-01\n",
      " 2.02639204e-09 1.00998609e+00]\n",
      "trial chisq 7043.3228950947305\n",
      "delta chisq : 286.3825656825138\n",
      "i : 510\n",
      "chi cur : 6756.940329412217\n",
      "trial pars : [6.71986596e+01 2.08052651e-02 1.02648999e-01 1.17673768e-01\n",
      " 2.02599491e-09 1.00990863e+00]\n",
      "trial chisq 7469.364746155733\n",
      "delta chisq : 712.4244167435163\n",
      "i : 520\n",
      "chi cur : 6756.940329412217\n",
      "trial pars : [6.70071710e+01 2.08042682e-02 1.02613950e-01 1.17036573e-01\n",
      " 2.02697678e-09 1.01030991e+00]\n",
      "trial chisq 7316.722366569256\n",
      "delta chisq : 559.7820371570397\n",
      "i : 530\n",
      "chi cur : 6731.734893570306\n",
      "trial pars : [6.76526062e+01 2.08042971e-02 1.02707419e-01 1.18897919e-01\n",
      " 2.02727214e-09 1.01068654e+00]\n",
      "trial chisq 7623.212760408582\n",
      "delta chisq : 891.477866838276\n",
      "i : 540\n",
      "chi cur : 6731.734893570306\n",
      "trial pars : [6.73571387e+01 2.08449000e-02 1.02659876e-01 1.15066920e-01\n",
      " 2.02672187e-09 1.01060877e+00]\n",
      "trial chisq 7025.961026018725\n",
      "delta chisq : 294.22613244841887\n",
      "i : 550\n",
      "chi cur : 6729.434703922862\n",
      "trial pars : [6.76877805e+01 2.08173964e-02 1.02735370e-01 1.16356800e-01\n",
      " 2.02715972e-09 1.01083717e+00]\n",
      "trial chisq 7220.053693214462\n",
      "delta chisq : 490.6189892916\n",
      "i : 560\n",
      "chi cur : 6729.434703922862\n",
      "trial pars : [6.75944089e+01 2.08237059e-02 1.02800207e-01 1.16339453e-01\n",
      " 2.02769303e-09 1.01062095e+00]\n",
      "trial chisq 7207.121840507525\n",
      "delta chisq : 477.68713658466277\n",
      "i : 570\n",
      "chi cur : 6729.434703922862\n",
      "trial pars : [6.75056474e+01 2.08541733e-02 1.02769544e-01 1.14989493e-01\n",
      " 2.02706486e-09 1.01083732e+00]\n",
      "trial chisq 7009.95081172584\n",
      "delta chisq : 280.5161078029778\n",
      "i : 580\n",
      "chi cur : 6729.434703922862\n",
      "trial pars : [6.75858217e+01 2.08501523e-02 1.02780581e-01 1.14598422e-01\n",
      " 2.02678174e-09 1.01097160e+00]\n",
      "trial chisq 6961.312100952256\n",
      "delta chisq : 231.87739702939325\n",
      "i : 590\n",
      "chi cur : 6729.434703922862\n",
      "trial pars : [6.76342943e+01 2.08555418e-02 1.02728859e-01 1.13656446e-01\n",
      " 2.02755787e-09 1.01064292e+00]\n",
      "trial chisq 6796.443820307433\n",
      "delta chisq : 67.00911638457092\n",
      "i : 600\n",
      "chi cur : 6729.434703922862\n",
      "trial pars : [6.76021319e+01 2.08491268e-02 1.02782362e-01 1.16444296e-01\n",
      " 2.02777129e-09 1.01064075e+00]\n",
      "trial chisq 7216.347198189961\n",
      "delta chisq : 486.91249426709874\n",
      "i : 610\n",
      "chi cur : 6729.434703922862\n",
      "trial pars : [6.76678372e+01 2.08453823e-02 1.02743376e-01 1.17602862e-01\n",
      " 2.02736517e-09 1.01099644e+00]\n",
      "trial chisq 7402.911981688346\n",
      "delta chisq : 673.4772777654834\n",
      "i : 620\n",
      "chi cur : 6714.05458937794\n",
      "trial pars : [6.75821917e+01 2.08772759e-02 1.02790259e-01 1.14670903e-01\n",
      " 2.02839324e-09 1.01106727e+00]\n",
      "trial chisq 6910.150997069104\n",
      "delta chisq : 196.09640769116413\n",
      "i : 630\n",
      "chi cur : 6714.05458937794\n",
      "trial pars : [6.76610580e+01 2.08678815e-02 1.02890659e-01 1.13910826e-01\n",
      " 2.02763102e-09 1.01088245e+00]\n",
      "trial chisq 6844.854332856595\n",
      "delta chisq : 130.79974347865482\n",
      "i : 640\n",
      "chi cur : 6714.05458937794\n",
      "trial pars : [6.74603918e+01 2.08711750e-02 1.02878085e-01 1.15525290e-01\n",
      " 2.02762825e-09 1.01105128e+00]\n",
      "trial chisq 7076.102821984359\n",
      "delta chisq : 362.04823260641933\n",
      "i : 650\n",
      "chi cur : 6714.05458937794\n",
      "trial pars : [6.77038832e+01 2.08358834e-02 1.02799211e-01 1.17879713e-01\n",
      " 2.02861669e-09 1.01108460e+00]\n",
      "trial chisq 7406.391842804202\n",
      "delta chisq : 692.3372534262617\n",
      "i : 660\n",
      "chi cur : 6714.05458937794\n",
      "trial pars : [6.74076098e+01 2.08741505e-02 1.02897518e-01 1.14077450e-01\n",
      " 2.02775904e-09 1.01112985e+00]\n",
      "trial chisq 6855.424174255557\n",
      "delta chisq : 141.36958487761694\n",
      "i : 670\n",
      "chi cur : 6714.05458937794\n",
      "trial pars : [6.75370624e+01 2.08480901e-02 1.02784722e-01 1.16960577e-01\n",
      " 2.02784996e-09 1.01103323e+00]\n",
      "trial chisq 7280.097471060921\n",
      "delta chisq : 566.0428816829808\n",
      "i : 680\n",
      "chi cur : 6714.05458937794\n",
      "trial pars : [6.74733929e+01 2.08544812e-02 1.02780190e-01 1.18513935e-01\n",
      " 2.02844568e-09 1.01127699e+00]\n",
      "trial chisq 7491.821715035463\n",
      "delta chisq : 777.7671256575231\n",
      "i : 690\n",
      "chi cur : 6692.66016797771\n",
      "trial pars : [6.78199114e+01 2.08672709e-02 1.02922168e-01 1.15781713e-01\n",
      " 2.02871447e-09 1.01148468e+00]\n",
      "trial chisq 7082.38280671304\n",
      "delta chisq : 389.7226387353294\n",
      "i : 700\n",
      "chi cur : 6692.66016797771\n",
      "trial pars : [6.78018234e+01 2.08672463e-02 1.02962270e-01 1.15332812e-01\n",
      " 2.02953146e-09 1.01138079e+00]\n",
      "trial chisq 6989.566348941145\n",
      "delta chisq : 296.90618096343496\n",
      "i : 710\n",
      "chi cur : 6692.66016797771\n",
      "trial pars : [6.78068754e+01 2.08736318e-02 1.02891248e-01 1.15255866e-01\n",
      " 2.02843358e-09 1.01143061e+00]\n",
      "trial chisq 7007.957918344516\n",
      "delta chisq : 315.2977503668053\n",
      "i : 720\n",
      "chi cur : 6692.66016797771\n",
      "trial pars : [6.77246996e+01 2.08633303e-02 1.02948002e-01 1.13220512e-01\n",
      " 2.02908539e-09 1.01151284e+00]\n",
      "trial chisq 6682.105999271811\n",
      "delta chisq : -10.554168705899428\n",
      "i : 730\n",
      "chi cur : 6668.58998166721\n",
      "trial pars : [6.81357160e+01 2.08746246e-02 1.03139548e-01 1.21445862e-01\n",
      " 2.03023770e-09 1.01252719e+00]\n",
      "trial chisq 7997.409165916692\n",
      "delta chisq : 1328.8191842494816\n",
      "i : 740\n",
      "chi cur : 6668.58998166721\n",
      "trial pars : [6.80908488e+01 2.08927055e-02 1.03120473e-01 1.16751690e-01\n",
      " 2.03045113e-09 1.01239657e+00]\n",
      "trial chisq 7190.0227857609225\n",
      "delta chisq : 521.4328040937125\n",
      "time: 3463.8150537014008\n"
     ]
    }
   ],
   "source": [
    "start = time.time()\n",
    "chain , chivec = mcmc(pars,pcov,spec,gauss_chisq,errs,nstep=750)\n",
    "stop = time.time()\n",
    "print('time:',stop-start)"
   ]
  },
  {
   "cell_type": "code",
   "execution_count": 18,
   "metadata": {},
   "outputs": [],
   "source": [
    "param_chain=np.mean(chain,axis=0)\n",
    "std_param = np.std(chain,axis=0)"
   ]
  },
  {
   "cell_type": "code",
   "execution_count": 32,
   "metadata": {},
   "outputs": [],
   "source": [
    "#compute the value for dark energy and error \n",
    "\n",
    "h = param_chain[0]/100\n",
    "err_h = std_param[0]/100\n",
    "\n",
    "err_b = std_param[1]\n",
    "err_c = std_param[2]\n",
    "\n",
    "omega_b = param_chain[1]/h**2\n",
    "omega_c = param_chain[2]/h**2\n",
    "\n",
    "err_omega_b = np.sqrt((err_b/param_chain[1])**2 + (2*err_h/h)**2)*omega_b\n",
    "err_omega_c = np.sqrt((err_c/param_chain[2])**2 + (2*err_h/h)**2)*omega_c\n",
    "\n",
    "dark_energy  = 1 - omega_b - omega_c\n",
    "err_dark_energy = np.sqrt((err_omega_b)**2 + (err_omega_c)**2)"
   ]
  },
  {
   "cell_type": "code",
   "execution_count": 23,
   "metadata": {},
   "outputs": [],
   "source": [
    "with open('Q3_estimate_dark_energy.txt', 'w') as f:\n",
    "    string = \"estimate on the mean value of the dark energy : {} +/- {}\".format(dark_energy,err_dark_energy)\n",
    "\n",
    "    f.write(string)"
   ]
  },
  {
   "cell_type": "code",
   "execution_count": 24,
   "metadata": {
    "scrolled": true
   },
   "outputs": [],
   "source": [
    "chivec = np.array([chivec])\n",
    "list_file = np.concatenate((chivec.T, chain),axis=1)"
   ]
  },
  {
   "cell_type": "code",
   "execution_count": 25,
   "metadata": {},
   "outputs": [],
   "source": [
    "np.savetxt('planck_chain.txt',list_file)"
   ]
  },
  {
   "cell_type": "code",
   "execution_count": 39,
   "metadata": {
    "scrolled": true
   },
   "outputs": [
    {
     "data": {
      "image/png": "[encoded data removed]",
      "text/plain": [
       "<Figure size 432x288 with 1 Axes>"
      ]
     },
     "metadata": {
      "needs_background": "light"
     },
     "output_type": "display_data"
    }
   ],
   "source": [
    "chainft = np.fft.rfft(chain[:,0])\n",
    "plt.loglog(np.abs(chainft),label='param H_0')\n",
    "plt.legend()\n",
    "plt.savefig('0.pdf')\n",
    "plt.show()"
   ]
  },
  {
   "cell_type": "code",
   "execution_count": 40,
   "metadata": {},
   "outputs": [
    {
     "data": {
      "image/png": "[encoded data removed]",
      "text/plain": [
       "<Figure size 432x288 with 1 Axes>"
      ]
     },
     "metadata": {
      "needs_background": "light"
     },
     "output_type": "display_data"
    }
   ],
   "source": [
    "chainft = np.fft.rfft(chain[:,1])\n",
    "plt.loglog(np.abs(chainft),label='param Baryon density')\n",
    "plt.legend()\n",
    "plt.savefig('1.pdf')\n",
    "plt.show()"
   ]
  },
  {
   "cell_type": "code",
   "execution_count": 41,
   "metadata": {},
   "outputs": [
    {
     "data": {
      "image/png": "[encoded data removed]",
      "text/plain": [
       "<Figure size 432x288 with 1 Axes>"
      ]
     },
     "metadata": {
      "needs_background": "light"
     },
     "output_type": "display_data"
    }
   ],
   "source": [
    "chainft = np.fft.rfft(chain[:,2])\n",
    "plt.loglog(np.abs(chainft),label='param Dark matter density')\n",
    "plt.legend()\n",
    "plt.savefig('2.pdf')\n",
    "plt.show()"
   ]
  },
  {
   "cell_type": "code",
   "execution_count": 42,
   "metadata": {},
   "outputs": [
    {
     "data": {
      "image/png": "[encoded data removed]",
      "text/plain": [
       "<Figure size 432x288 with 1 Axes>"
      ]
     },
     "metadata": {
      "needs_background": "light"
     },
     "output_type": "display_data"
    }
   ],
   "source": [
    "chainft = np.fft.rfft(chain[:,3])\n",
    "plt.loglog(np.abs(chainft),label='param tau')\n",
    "plt.legend()\n",
    "plt.savefig('3.pdf')\n",
    "plt.show()"
   ]
  },
  {
   "cell_type": "code",
   "execution_count": 43,
   "metadata": {},
   "outputs": [
    {
     "data": {
      "image/png": "[encoded data removed]",
      "text/plain": [
       "<Figure size 432x288 with 1 Axes>"
      ]
     },
     "metadata": {
      "needs_background": "light"
     },
     "output_type": "display_data"
    }
   ],
   "source": [
    "chainft = np.fft.rfft(chain[:,4])\n",
    "plt.loglog(np.abs(chainft),label='param A_S')\n",
    "plt.legend()\n",
    "plt.savefig('4.pdf')\n",
    "plt.show()"
   ]
  },
  {
   "cell_type": "markdown",
   "metadata": {},
   "source": [
    "### Problem 4"
   ]
  },
  {
   "cell_type": "code",
   "execution_count": 27,
   "metadata": {},
   "outputs": [],
   "source": [
    "def mcmc_tau(pars,cov_param,y,fun,noise,nstep=300):\n",
    "    \n",
    "    L =  np.linalg.cholesky(cov_inv)\n",
    "    \n",
    "    chi_cur=fun(pars,y,noise) # compute chi-square\n",
    "    #print(chi_cur)\n",
    "    \n",
    "    npar=len(pars) #number of parameters\n",
    "    chain=np.zeros([nstep,npar])\n",
    "    chivec=np.zeros(nstep) # chi-square as fcn of time/steps\n",
    "    for i in range(nstep):\n",
    "        #print('i :',i)\n",
    "        step = 0.2*np.diag(L)*np.random.rand(npar)\n",
    "        #print('step : ',step)\n",
    "        trial_pars=pars+step #param at new step\n",
    "        trial_pars[3] = np.random.normal(0.054,0.0074) #normal distr for value of tau with mean 0.054 and std 0.0074\n",
    "        \n",
    "        #print('trial pars : ',trial_pars)\n",
    "        trial_chisq=fun(trial_pars,y,noise) #compute chi-square for trial, i.e. at new step\n",
    "        #print('trial chisq : ',trial_chisq)\n",
    "        \n",
    "        delta_chisq=trial_chisq-chi_cur # difference trial chi-square and previous chi-square\n",
    "        #print('chi cur : ',chi_cur,'delta :',delta_chisq,'\\n')\n",
    "        \n",
    "        accept_prob=np.exp(-0.5*delta_chisq)\n",
    "        accept=np.random.rand(1)<accept_prob\n",
    "        if accept:\n",
    "            pars=trial_pars\n",
    "            chi_cur=trial_chisq\n",
    "        chain[i,:]=pars\n",
    "        chivec[i]=chi_cur\n",
    "    return chain,chivec"
   ]
  },
  {
   "cell_type": "code",
   "execution_count": 28,
   "metadata": {
    "scrolled": true
   },
   "outputs": [
    {
     "name": "stderr",
     "output_type": "stream",
     "text": [
      "<ipython-input-27-fcb1a2f73e83>:25: RuntimeWarning: overflow encountered in exp\n",
      "  accept_prob=np.exp(-0.5*delta_chisq)\n"
     ]
    },
    {
     "name": "stdout",
     "output_type": "stream",
     "text": [
      "time: 1407.868891954422\n"
     ]
    }
   ],
   "source": [
    "start = time.time()\n",
    "chain , chivec = mcmc_tau(pars,pcov,spec,gauss_chisq,errs)\n",
    "stop = time.time()\n",
    "print('time:',stop-start)"
   ]
  },
  {
   "cell_type": "code",
   "execution_count": 31,
   "metadata": {},
   "outputs": [
    {
     "name": "stdout",
     "output_type": "stream",
     "text": [
      "0.07087780270103204\n"
     ]
    }
   ],
   "source": [
    "param = np.mean(chain,axis=0)\n",
    "print(param[3])"
   ]
  },
  {
   "cell_type": "code",
   "execution_count": 17,
   "metadata": {},
   "outputs": [],
   "source": [
    "def prior_chisq(pars,par_priors,par_errs):\n",
    "    if par_priors is None:\n",
    "        return 0\n",
    "    par_shifts=pars-par_priors\n",
    "    return np.sum((par_shifts/par_errs)**2)"
   ]
  },
  {
   "cell_type": "code",
   "execution_count": null,
   "metadata": {},
   "outputs": [],
   "source": [
    "def mcmc_imp(pars,step_size,x,y,fun,nstep=300,noise=None,par_priors=None,par_errs=None):\n",
    "    chi_cur=fun(pars,x,y,noise)+prior_chisq(pars,par_priors,par_errs)\n",
    "    npar=len(pars)\n",
    "    chain=np.zeros([nstep,npar])\n",
    "    chivec=np.zeros(nstep)\n",
    "    for i in range(nstep):\n",
    "        trial_pars=pars+step_size*np.random.randn(npar)\n",
    "        trial_chisq=fun(trial_pars,x,y,noise)+prior_chisq(pars,par_priors,par_errs)\n",
    "        delta_chisq=trial_chisq-chi_cur\n",
    "        accept_prob=np.exp(-0.5*delta_chisq)\n",
    "        accept=np.random.rand(1)<accept_prob\n",
    "        if accept:\n",
    "            pars=trial_pars\n",
    "            chi_cur=trial_chisq\n",
    "        chain[i,:]=pars\n",
    "        chivec[i]=chi_cur\n",
    "    return chain,chivec"
   ]
  }
 ],
 "metadata": {
  "kernelspec": {
   "display_name": "Python 3",
   "language": "python",
   "name": "python3"
  },
  "language_info": {
   "codemirror_mode": {
    "name": "ipython",
    "version": 3
   },
   "file_extension": ".py",
   "mimetype": "text/x-python",
   "name": "python",
   "nbconvert_exporter": "python",
   "pygments_lexer": "ipython3",
   "version": "3.8.5"
  }
 },
 "nbformat": 4,
 "nbformat_minor": 4
}
